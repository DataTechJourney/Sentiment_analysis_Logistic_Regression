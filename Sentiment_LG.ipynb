{
  "cells": [
    {
      "cell_type": "markdown",
      "source": [
        "#  Sentiment analysis on twitter samples"
      ],
      "metadata": {
        "id": "0RD6ZudOk-aH"
      }
    },
    {
      "cell_type": "markdown",
      "source": [
        "Who does not know it ? Twitter is a social networking service owned  on which users post and interact with messages known as \"tweets\". \n",
        "In this notebook, we are going to train and develop a simple Twitter Sentiment Analysis supervised learning model using python and NLP libraries.\n",
        "Let's start :) !"
      ],
      "metadata": {
        "id": "G7DXqkbUraRX"
      }
    },
    {
      "cell_type": "code",
      "execution_count": 2,
      "metadata": {
        "id": "uJssFm65k8iJ"
      },
      "outputs": [],
      "source": [
        "# importing necessary libraries\n",
        "\n",
        "import nltk, re, string\n",
        "from nltk.corpus import stopwords, twitter_samples\n",
        "import numpy as np\n",
        "import pickle\n",
        "import pandas as pd"
      ]
    },
    {
      "cell_type": "markdown",
      "source": [
        "## preprecessing data"
      ],
      "metadata": {
        "id": "AOFRXkIpjQNJ"
      }
    },
    {
      "cell_type": "code",
      "execution_count": 1,
      "metadata": {
        "id": "CkaGbJoUJoOC"
      },
      "outputs": [],
      "source": [
        "def process_tweet(tweet):\n",
        "  #first we are going to remove morphological affixes from words, leaving only the word stem.\n",
        "    stemmer = nltk.PorterStemmer()\n",
        "    stopwords_english = stopwords.words('english')\n",
        "    tweet = re.sub(r'\\$\\w*', '', tweet)\n",
        "    tweet = re.sub(r'^RT[\\s]+', '', tweet)\n",
        "    tweet = re.sub(r'https?:\\/\\/.*[\\r\\n]*', '', tweet)\n",
        "    tweet = re.sub(r'#', '', tweet)\n",
        "\n",
        "    \n",
        "    tokenizer = nltk.TweetTokenizer(preserve_case=False, strip_handles=True, reduce_len=True)#) with thismethod we are able to convert the stream \n",
        "    #of words into small  tokens so that we can analyse the audio stream with the help of nltk\n",
        "\n",
        "    tweet_tokens = tokenizer.tokenize(tweet)\n",
        "\n",
        "    tweets_clean = []\n",
        "    for word in tweet_tokens:\n",
        "        if (word not in stopwords_english and\n",
        "                word not in string.punctuation):\n",
        "            stem_word = stemmer.stem(word)  # stemming word\n",
        "            tweets_clean.append(stem_word)\n",
        "\n",
        "    return tweets_clean\n"
      ]
    },
    {
      "cell_type": "code",
      "execution_count": 4,
      "metadata": {
        "id": "aPTgml3SJ0pJ"
      },
      "outputs": [],
      "source": [
        "def dict_freqs(tweets, ys):\n",
        "    # Convert np array to list since the function zip needs an iterable.\n",
        "    yslist = np.squeeze(ys).tolist()\n",
        "\n",
        "    # Start with an empty dictionary and populate it by looping over all tweets\n",
        "    # and over all processed words in each tweet.\n",
        "    freqs = {}\n",
        "    # zip function takes in iterables as arguments and returns an iterator\n",
        "    for y, tweet in zip(yslist, tweets):\n",
        "        for word in process_tweet(tweet): #process_tweet returns a a list of clean tweets\n",
        "            pair = (word, y)\n",
        "            if pair in freqs:\n",
        "                freqs[pair] += 1\n",
        "            else:\n",
        "                freqs[pair] = 1\n",
        "\n",
        "    return freqs"
      ]
    },
    {
      "cell_type": "code",
      "source": [
        "nltk.download('stopwords')"
      ],
      "metadata": {
        "colab": {
          "base_uri": "https://localhost:8080/"
        },
        "id": "ux46mbx8mCDl",
        "outputId": "cc334328-6847-4960-a134-8e0fe73b918d"
      },
      "execution_count": 7,
      "outputs": [
        {
          "output_type": "stream",
          "name": "stderr",
          "text": [
            "[nltk_data] Downloading package stopwords to /root/nltk_data...\n",
            "[nltk_data]   Unzipping corpora/stopwords.zip.\n"
          ]
        },
        {
          "output_type": "execute_result",
          "data": {
            "text/plain": [
              "True"
            ]
          },
          "metadata": {},
          "execution_count": 7
        }
      ]
    },
    {
      "cell_type": "code",
      "execution_count": 8,
      "metadata": {
        "colab": {
          "base_uri": "https://localhost:8080/"
        },
        "id": "Y61jYX3fUkkU",
        "outputId": "1a3db934-3a45-4382-d6e7-5b1913ce18e2"
      },
      "outputs": [
        {
          "output_type": "stream",
          "name": "stdout",
          "text": [
            "{('brilliant', 1): 1, ('depress', 0): 1, ('sad', 0): 1, ('tire', 0): 2}\n"
          ]
        }
      ],
      "source": [
        "# let's test our function build_freq\n",
        "\n",
        "tweets = ['i am brilliant', 'i am depressed', 'i am sad', 'i am tired', 'i am tired']\n",
        "ys = [1, 0, 0, 0, 0]\n",
        "res = dict_freqs(tweets, ys)\n",
        "print(res)"
      ]
    },
    {
      "cell_type": "code",
      "source": [
        "nltk.download('twitter_samples')"
      ],
      "metadata": {
        "colab": {
          "base_uri": "https://localhost:8080/"
        },
        "id": "mpiTM291mXHh",
        "outputId": "93188f58-4a35-45a8-f3d9-90814a6954d8"
      },
      "execution_count": 11,
      "outputs": [
        {
          "output_type": "stream",
          "name": "stderr",
          "text": [
            "[nltk_data] Downloading package twitter_samples to /root/nltk_data...\n",
            "[nltk_data]   Unzipping corpora/twitter_samples.zip.\n"
          ]
        },
        {
          "output_type": "execute_result",
          "data": {
            "text/plain": [
              "True"
            ]
          },
          "metadata": {},
          "execution_count": 11
        }
      ]
    },
    {
      "cell_type": "code",
      "execution_count": 12,
      "metadata": {
        "id": "hxViCeI-KDN7"
      },
      "outputs": [],
      "source": [
        "# select the set of positive and negative tweets\n",
        "all_positive_tweets = twitter_samples.strings('positive_tweets.json')\n",
        "all_negative_tweets = twitter_samples.strings('negative_tweets.json')"
      ]
    },
    {
      "cell_type": "code",
      "source": [
        "type(all_positive_tweets)"
      ],
      "metadata": {
        "colab": {
          "base_uri": "https://localhost:8080/"
        },
        "id": "JT8B0K0xmeXk",
        "outputId": "0bd535b6-6dc9-4913-d2ba-cb0b01b78f82"
      },
      "execution_count": 14,
      "outputs": [
        {
          "output_type": "execute_result",
          "data": {
            "text/plain": [
              "list"
            ]
          },
          "metadata": {},
          "execution_count": 14
        }
      ]
    },
    {
      "cell_type": "markdown",
      "source": [
        "## splitting data (train&test)"
      ],
      "metadata": {
        "id": "5d6hWqGgmpml"
      }
    },
    {
      "cell_type": "code",
      "execution_count": 16,
      "metadata": {
        "id": "03NIPdv1KF96"
      },
      "outputs": [],
      "source": [
        "test_pos = all_positive_tweets[4000:]\n",
        "train_pos = all_positive_tweets[:4000]\n",
        "test_neg = all_negative_tweets[4000:]\n",
        "train_neg = all_negative_tweets[:4000]"
      ]
    },
    {
      "cell_type": "code",
      "execution_count": 18,
      "metadata": {
        "id": "MOGG2-3WKRQ7"
      },
      "outputs": [],
      "source": [
        "#concating the pos and neg tweets for train ant test parts\n",
        "train_x = train_pos + train_neg\n",
        "test_x = test_pos + test_neg"
      ]
    },
    {
      "cell_type": "code",
      "execution_count": 19,
      "metadata": {
        "id": "dGQdgF5VKTia"
      },
      "outputs": [],
      "source": [
        "# combine positive and negative labels\n",
        "# We are building our y - target variable here\n",
        "train_y = np.append(np.ones((len(train_pos), 1)), np.zeros((len(train_neg), 1)), axis=0)\n",
        "test_y = np.append(np.ones((len(test_pos), 1)), np.zeros((len(test_neg), 1)), axis=0)"
      ]
    },
    {
      "cell_type": "code",
      "execution_count": 21,
      "metadata": {
        "id": "QVDUs1paKb4z"
      },
      "outputs": [],
      "source": [
        "# create frequency dictionary\n",
        "freqs = dict_freqs(train_x, train_y)"
      ]
    },
    {
      "cell_type": "code",
      "execution_count": 22,
      "metadata": {
        "colab": {
          "base_uri": "https://localhost:8080/"
        },
        "id": "IV5_4qVUKewa",
        "outputId": "25618bc9-6420-4c36-9d0b-d9b0c2890ea5"
      },
      "outputs": [
        {
          "output_type": "stream",
          "name": "stdout",
          "text": [
            "type(freqs) = <class 'dict'>\n",
            "len(freqs) = 11338\n"
          ]
        }
      ],
      "source": [
        "# check out the output\n",
        "\n",
        "print(\"type(freqs) = \" + str(type(freqs)))\n",
        "print(\"len(freqs) = \" + str(len(freqs.keys())))"
      ]
    },
    {
      "cell_type": "code",
      "execution_count": 23,
      "metadata": {
        "colab": {
          "base_uri": "https://localhost:8080/"
        },
        "id": "ZyVQ7YMoKp2T",
        "outputId": "cef42add-8c2c-4d95-ec45-faacd3898c40"
      },
      "outputs": [
        {
          "output_type": "stream",
          "name": "stdout",
          "text": [
            "This is an example of a positive tweet: \n",
            " #FollowFriday @MBandScott_ @Eric_FLE @pointsolutions3 for being top new followers in my community this week :)\n",
            "\n",
            "This is  the processed version of our example: \n",
            " ['followfriday', 'top', 'new', 'follow', 'commun', 'week', ':)']\n"
          ]
        }
      ],
      "source": [
        "# test the function below\n",
        "\n",
        "print('This is an example of a positive tweet: \\n', train_x[20])\n",
        "print('\\nThis is  the processed version of our example: \\n', process_tweet(train_x[20]))"
      ]
    },
    {
      "cell_type": "markdown",
      "source": [
        "## Logistic regression from scratch"
      ],
      "metadata": {
        "id": "K2XomvOjFRlS"
      }
    },
    {
      "cell_type": "code",
      "execution_count": 27,
      "metadata": {
        "id": "RCaQzncSKwL_"
      },
      "outputs": [],
      "source": [
        "def sigmoid(z):\n",
        "    zz = np.negative(z)\n",
        "    h = 1 / (1 + np.exp(zz))\n",
        "    return h"
      ]
    },
    {
      "cell_type": "code",
      "execution_count": 28,
      "metadata": {
        "id": "ARg-_KLtK-ZX"
      },
      "outputs": [],
      "source": [
        "# Cost function and Gradient\n",
        "def gradientDescent(x, y, theta, alpha, num_iters):\n",
        "    \"\"\"\n",
        "    Input:\n",
        "        x: matrix of features which is (m,n+1)\n",
        "        y: corresponding labels of the input matrix x, dimensions (m,1)\n",
        "        theta: weight vector of dimension (n+1,1)\n",
        "        alpha: learning rate\n",
        "        num_iters: number of iterations you want to train your model for\n",
        "    Output:\n",
        "        J: the final cost\n",
        "        theta: your final weight vector\n",
        "    We will print the cost to make sure that it is going down.\n",
        "    \"\"\"\n",
        "    # get 'm', the number of rows in matrix x\n",
        "    m = x.shape[0]\n",
        "    for i in range(0, num_iters):\n",
        "        z = np.dot(x, theta)\n",
        "        h = sigmoid(z)\n",
        "        # calculate the cost function\n",
        "        cost = -1. / m * (np.dot(y.transpose(), np.log(h)) + np.dot((1 - y).transpose(), np.log(1 - h)))\n",
        "        # update the weights theta\n",
        "        theta = theta - (alpha / m) * np.dot(x.transpose(), (h - y))\n",
        "\n",
        "    cost = float(cost)\n",
        "    return cost, theta\n"
      ]
    },
    {
      "cell_type": "code",
      "execution_count": 29,
      "metadata": {
        "id": "i3RneTodLBcC"
      },
      "outputs": [],
      "source": [
        "#  Extracting the features\n",
        "\n",
        "def extract_features(tweet, freqs):\n",
        "    \"\"\"\n",
        "    Input:\n",
        "        tweet: a list of words for one tweet\n",
        "        freqs: a dictionary corresponding to the frequencies of each tuple (word, label)\n",
        "    Output:\n",
        "        x: a feature vector of dimension (1,3) which are the text and the number of positive and negative words\n",
        "    \"\"\"\n",
        "\n",
        "    word_l = process_tweet(tweet)\n",
        "    x = np.zeros((1, 3))\n",
        "\n",
        "    # bias term is set to 1\n",
        "    x[0, 0] = 1\n",
        "\n",
        "    for word in word_l:\n",
        "        # increment the word count for the positive label 1\n",
        "        x[0, 1] += freqs.get((word, 1.0), 0)\n",
        "        # increment the word count for the negative label 0\n",
        "        x[0, 2] += freqs.get((word, 0.0), 0)\n",
        "\n",
        "    assert (x.shape == (1, 3))\n",
        "    return x"
      ]
    },
    {
      "cell_type": "code",
      "execution_count": 32,
      "metadata": {
        "colab": {
          "base_uri": "https://localhost:8080/"
        },
        "id": "dSTFB_uCLEdz",
        "outputId": "6cd6fd18-5403-4fe9-bf30-1b21e61aa4bf"
      },
      "outputs": [
        {
          "output_type": "stream",
          "name": "stdout",
          "text": [
            "[[1.000e+00 3.006e+03 1.240e+02]]\n"
          ]
        }
      ],
      "source": [
        "# test on training data\n",
        "\n",
        "coeff = extract_features(train_x[22], freqs)\n",
        "print(coeff)"
      ]
    },
    {
      "cell_type": "markdown",
      "source": [
        "How these coefficients will be used to predict in Logistic Regression?\n",
        "\n",
        "First a hypothesis is build which for our case will be h(x) = b1 + b2*x1 + b3*x2\n",
        "\n",
        "here b1 = 1, b2 and b3 are determined by cost and gradient function, x1 and x2 are the positive and negative words feature set."
      ],
      "metadata": {
        "id": "lNvm34m5q4GM"
      }
    },
    {
      "cell_type": "code",
      "execution_count": 34,
      "metadata": {
        "id": "4lUutIScOWj7"
      },
      "outputs": [],
      "source": [
        "# Training Your Model\n",
        "\n",
        "# collect the features 'x' and stack them into a matrix 'X'\n",
        "X = np.zeros((len(train_x), 3))\n",
        "for i in range(len(train_x)):\n",
        "    X[i, :] = extract_features(train_x[i], freqs)\n",
        "\n",
        "# training labels corresponding to X\n",
        "Y = train_y\n",
        "\n",
        "# Apply gradient descent\n",
        "# these values are predefined \n",
        "J, theta = gradientDescent(X, Y, np.zeros((3, 1)), 1e-9, 1500)"
      ]
    },
    {
      "cell_type": "markdown",
      "source": [
        "finally we have our model and we want to predict a tweet that we choose"
      ],
      "metadata": {
        "id": "yvpuhCLJrrqT"
      }
    },
    {
      "cell_type": "code",
      "execution_count": 35,
      "metadata": {
        "id": "mUJ-lXxfOcvJ"
      },
      "outputs": [],
      "source": [
        "def predict_tweet(tweet, freqs, theta):\n",
        "    \"\"\"\n",
        "    Input:\n",
        "        tweet: a string\n",
        "        freqs: a dictionary corresponding to the frequencies of each tuple (word, label)\n",
        "        theta: (3,1) vector of weights\n",
        "    Output:\n",
        "        y_pred: the probability of a tweet being positive or negative\n",
        "    \"\"\"\n",
        "    # extract the features of the tweet and store it into x\n",
        "    x = extract_features(tweet, freqs)\n",
        "    y_pred = sigmoid(np.dot(x, theta))\n",
        "\n",
        "    return y_pred\n"
      ]
    },
    {
      "cell_type": "code",
      "execution_count": 36,
      "metadata": {
        "id": "EDQP49HuOhjt"
      },
      "outputs": [],
      "source": [
        "def test_logistic_regression(test_x, test_y, freqs, theta):\n",
        "    \"\"\"\n",
        "    Input:\n",
        "        test_x: a list of tweets\n",
        "        test_y: (m, 1) vector with the corresponding labels for the list of tweets\n",
        "        freqs: a dictionary with the frequency of each pair (or tuple)\n",
        "        theta: weight vector of dimension (3, 1)\n",
        "    Output:\n",
        "        accuracy: (number of tweets classified correctly) / (total number of tweets)\n",
        "    \"\"\"\n",
        "    # the list for storing predictions\n",
        "    y_hat = []\n",
        "\n",
        "    for tweet in test_x:\n",
        "        # get the label prediction for the tweet\n",
        "        y_pred = predict_tweet(tweet, freqs, theta)\n",
        "        if y_pred > 0.5:\n",
        "            y_hat.append(1)\n",
        "        else:\n",
        "            y_hat.append(0)\n",
        "\n",
        "    accuracy = (y_hat == np.squeeze(test_y)).sum() / len(test_x)\n",
        "\n",
        "    return accuracy"
      ]
    },
    {
      "cell_type": "code",
      "execution_count": 37,
      "metadata": {
        "colab": {
          "base_uri": "https://localhost:8080/"
        },
        "id": "9-B599jISbFd",
        "outputId": "8abfc6db-f965-4f3d-be9a-0ea306d14822"
      },
      "outputs": [
        {
          "output_type": "stream",
          "name": "stdout",
          "text": [
            "Logistic regression model's accuracy = 0.9950\n"
          ]
        }
      ],
      "source": [
        "tmp_accuracy = test_logistic_regression(test_x, test_y, freqs, theta)\n",
        "print(f\"Logistic regression model's accuracy = {tmp_accuracy:.4f}\")"
      ]
    },
    {
      "cell_type": "code",
      "execution_count": 39,
      "metadata": {
        "id": "w1RuRdapSdYB"
      },
      "outputs": [],
      "source": [
        "# Predict with our own tweet\n",
        "\n",
        "def predict(sentence):\n",
        "    yhat = predict_tweet(sentence, freqs, theta)\n",
        "    if yhat > 0.5:\n",
        "        return 'Positive sentiment'\n",
        "    elif yhat == 0:\n",
        "        return 'Neutral sentiment'\n",
        "    else:\n",
        "        return 'Negative sentiment'"
      ]
    },
    {
      "cell_type": "code",
      "execution_count": 40,
      "metadata": {
        "colab": {
          "base_uri": "https://localhost:8080/"
        },
        "id": "UfaCSbBzSoG7",
        "outputId": "227481b3-bb9e-416d-fecf-40a2f4808201"
      },
      "outputs": [
        {
          "output_type": "stream",
          "name": "stdout",
          "text": [
            "Positive sentiment\n"
          ]
        }
      ],
      "source": [
        "my_tweet = 'I am very happy that I succeded to create this model. I hope you enjoyed it and it wasnt so tiring '\n",
        "\n",
        "res = predict(my_tweet)\n",
        "print(res)"
      ]
    }
  ],
  "metadata": {
    "colab": {
      "collapsed_sections": [],
      "provenance": []
    },
    "kernelspec": {
      "display_name": "Python 3 (ipykernel)",
      "language": "python",
      "name": "python3"
    },
    "language_info": {
      "codemirror_mode": {
        "name": "ipython",
        "version": 3
      },
      "file_extension": ".py",
      "mimetype": "text/x-python",
      "name": "python",
      "nbconvert_exporter": "python",
      "pygments_lexer": "ipython3",
      "version": "3.9.13"
    }
  },
  "nbformat": 4,
  "nbformat_minor": 0
}